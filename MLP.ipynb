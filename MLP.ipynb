{
 "cells": [
  {
   "cell_type": "code",
   "execution_count": 2,
   "metadata": {},
   "outputs": [],
   "source": [
    "import csv\n",
    "import pandas\n",
    "import numpy\n",
    "from sklearn.neural_network import MLPClassifier"
   ]
  },
  {
   "cell_type": "code",
   "execution_count": 6,
   "metadata": {},
   "outputs": [],
   "source": [
    "class Perceptron:\n",
    "    def ActivationFunction(self):\n",
    "        pass\n",
    "    def __init__(self, i, o: Perceptron):\n",
    "        self.inputs = i\n",
    "        self.output = o "
   ]
  },
  {
   "cell_type": "markdown",
   "metadata": {},
   "source": [
    "This perceptron base class impliments the basic structure of  a perceptron, which includes having inputs and outputs to other Perceptrons, this base class will be inherited by more specific perceptrons (i.e. input perceptrons, output perceptrons, and the hidden pereceptrons)"
   ]
  },
  {
   "cell_type": "code",
   "execution_count": 5,
   "metadata": {},
   "outputs": [],
   "source": [
    "class InputPerceptron(Perceptron):\n",
    "    def __init__(self, i, o):\n",
    "        super().__init__(i,o)\n",
    "    def ActivationFunction(self):\n",
    "        self.output.inputs.add(self)"
   ]
  }
 ],
 "metadata": {
  "interpreter": {
   "hash": "31f2aee4e71d21fbe5cf8b01ff0e069b9275f58929596ceb00d14d90e3e16cd6"
  },
  "kernelspec": {
   "display_name": "Python 3.8.10 64-bit",
   "name": "python3"
  },
  "language_info": {
   "codemirror_mode": {
    "name": "ipython",
    "version": 3
   },
   "file_extension": ".py",
   "mimetype": "text/x-python",
   "name": "python",
   "nbconvert_exporter": "python",
   "pygments_lexer": "ipython3",
   "version": "3.8.10"
  },
  "orig_nbformat": 4
 },
 "nbformat": 4,
 "nbformat_minor": 2
}
